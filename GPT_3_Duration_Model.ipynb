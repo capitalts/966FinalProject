{
 "cells": [
  {
   "cell_type": "code",
   "execution_count": 2,
   "metadata": {},
   "outputs": [
    {
     "name": "stdout",
     "output_type": "stream",
     "text": [
      "None\n"
     ]
    }
   ],
   "source": [
    "import os\n",
    "import openai\n",
    "import time\n",
    "import numpy as np\n",
    "import matplotlib.pyplot as plt\n",
    "from matplotlib.lines import Line2D\n",
    "import csv\n",
    "from scipy.stats import erlang\n",
    "\n",
    "print(os.getenv(\"OPENAI_API_KEY\"))\n",
    "openai.api_key = ''\n",
    "\n",
    "\n"
   ]
  },
  {
   "cell_type": "code",
   "execution_count": 71,
   "metadata": {},
   "outputs": [
    {
     "name": "stdout",
     "output_type": "stream",
     "text": [
      "\n",
      "\n",
      "melon a\"Teacake\"\n",
      "\n",
      "34 minutes\n"
     ]
    }
   ],
   "source": [
    "start_time = time.time()\n",
    "tea_cake1 = openai.Completion.create(\n",
    "  model=\"text-ada-001\",\n",
    "  prompt=\"Each day, on your way to class, you walk past a coffee shop. \\\n",
    "    The shop has recently started a new advertising campaign: they bake fresh teacakes regularly throughout the day,\\\n",
    "    and have a clock outside that shows how long it has been since the teacakes were taken out of the oven. \\\n",
    "    You are interested in buying a teacake as soon as it is removed from the oven, and wonder how often batches of teacakes are baked. \\\n",
    "    Today, the clock shows that it has been 34 minutes since the last batch of teacakes was removed from the oven. \\\n",
    "    Please write down your best guess of how much time elapses between batches of teacakes, in minutes. \\\n",
    "    Try to make a guess, even if you feel like you don’t have enough information to make a decision—just go with your gut feeling. \\\n",
    "    may assume that the batches of teacakes are always separated by the same amount of time.\",\n",
    "  temperature=1.2,\n",
    "  max_tokens=256,\n",
    "  top_p=1,\n",
    "  frequency_penalty=0,\n",
    "  presence_penalty=0\n",
    ")\n",
    "print(tea_cake1.choices[0]['text'])"
   ]
  },
  {
   "cell_type": "code",
   "execution_count": 72,
   "metadata": {},
   "outputs": [
    {
     "name": "stdout",
     "output_type": "stream",
     "text": [
      "\n",
      "\n",
      " Includes the first day, the times you have seen are 34, 8, and 21 minutes.\n"
     ]
    }
   ],
   "source": [
    "tea_cake2 = openai.Completion.create(\n",
    "    model=\"text-ada-001\",\n",
    "    prompt=\"Each day, on your way to class, you walk past a coffee shop. \\\n",
    "    The shop has recently started a new advertising campaign: they bake fresh teacakes regularly throughout the day,\\\n",
    "    and have a clock outside that shows how long it has been since the teacakes were taken out of the oven. \\\n",
    "    You are interested in buying a teacake as soon as it is removed from the oven, and wonder how often batches of teacakes are baked. \\\n",
    "    Today, the clock shows that it has been 34 minutes since the last batch of teacakes was removed from the oven. \\\n",
    "    Please write down your best guess of how much time elapses between batches of teacakes, in minutes. \\\n",
    "    Try to make a guess, even if you feel like you don’t have enough information to make a decision—just go with your gut feeling. \\\n",
    "    may assume that the batches of teacakes are always separated by the same amount of time.\" \\\n",
    "    + tea_cake1.choices[0]['text'] + \"\\n\\n Suppose that you check the clock on your way to class for the next two days. Each time, you note how long it has been since the \\\n",
    "    teacakes came out of the oven. Including the first day, the times you have seen are 34, 8, and 21 minutes. \\\n",
    "    \\n\\n Please write down your new best guess of how much time elapses between batches of teacakes, in minutes.\",\n",
    "    temperature=1.2,\n",
    "    max_tokens=256,\n",
    "    top_p=1,\n",
    "    frequency_penalty=0,\n",
    "    presence_penalty=0\n",
    "    )\n",
    "\n",
    "print(tea_cake2.choices[0]['text'])"
   ]
  },
  {
   "cell_type": "code",
   "execution_count": 75,
   "metadata": {},
   "outputs": [
    {
     "name": "stdout",
     "output_type": "stream",
     "text": [
      "\n",
      "Includes the time intervals between batches of teacakes, every day for the next week.\n",
      " 12, 71, IV\n",
      "\n",
      "CLOSE\n",
      "\n",
      " Surrey\n",
      "\n",
      "3 hours\n",
      "\n",
      " Mov Price\n",
      "\n",
      " ($)\n",
      "\n",
      "\n",
      " dipping\n",
      "\n",
      " dinosaur\n",
      "\n",
      "2 hours\n",
      "\n",
      " Mov Price\n",
      "\n",
      " ($)\n",
      "\n",
      "\n",
      "\n",
      " stakes\n",
      "\n",
      "1 hour\n",
      "\n",
      " Mov Price\n",
      "\n",
      " ($)\n"
     ]
    }
   ],
   "source": [
    "tea_cake3 = openai.Completion.create(\n",
    "    model=\"text-ada-001\",\n",
    "    prompt=\"Each day, on your way to class, you walk past a coffee shop. \\\n",
    "    The shop has recently started a new advertising campaign: they bake fresh teacakes regularly throughout the day,\\\n",
    "    and have a clock outside that shows how long it has been since the teacakes were taken out of the oven. \\\n",
    "    You are interested in buying a teacake as soon as it is removed from the oven, and wonder how often batches of teacakes are baked. \\\n",
    "    Today, the clock shows that it has been 34 minutes since the last batch of teacakes was removed from the oven. \\\n",
    "    Please write down your best guess of how much time elapses between batches of teacakes, in minutes. \\\n",
    "    Try to make a guess, even if you feel like you don’t have enough information to make a decision—just go with your gut feeling. \\\n",
    "    may assume that the batches of teacakes are always separated by the same amount of time.\" \\\n",
    "    + tea_cake1.choices[0]['text'] + \"\\n\\n Suppose that you check the clock on your way to class for the next two days. Each time, you note how long it has been since the \\\n",
    "    teacakes came out of the oven. Including the first day, the times you have seen are 34, 8, and 21 minutes. \\\n",
    "    \\n\\n Please write down your new best guess of how much time elapses between batches of teacakes, in minutes.\"\\\n",
    "    + tea_cake2.choices[0]['text'] + \"Suppose that you note the time on the clock every time you walk past the coffee shop in the next week, \\\n",
    "    checking how long it has been since the teacakes came out of the oven. Including the three days from the previous week, the times you have \\\n",
    "    seen are 8, 21, 18, 2, 5, 27, 22, 10, 14 and 34 minutes. \\n\\n \\\n",
    "    Please write down your new best guess of the time interval between batches of teacakes, in minutes. \",\n",
    "\n",
    "    temperature=1.2,\n",
    "    max_tokens=256,\n",
    "    top_p=1,\n",
    "    frequency_penalty=0,\n",
    "    presence_penalty=0\n",
    "    )\n",
    "\n",
    "print(tea_cake3.choices[0]['text'])"
   ]
  },
  {
   "cell_type": "code",
   "execution_count": 77,
   "metadata": {},
   "outputs": [],
   "source": [
    "#tea cake with original prompt\n",
    "def tea_cake(text_model, temp=0.9, p=0.5, freq_p=0, pres_p=0):\n",
    "    tea_cake1 = openai.Completion.create(\n",
    "    model=text_model,\n",
    "    prompt=\"A bakery bakes a fresh batch of tea cakes at the same time interval throughout the day, \\\n",
    "    and have a clock outside that shows how long it has been since the last batch was removed from the oven. \\\n",
    "    You are interested in buying a teacake as soon as it is removed from the oven, and wonder what the time interval is.\\\n",
    "    Today, the clock shows that it has been 34 minutes since the last batch of teacakes was removed from the oven.\\n\\n\\\n",
    "    Please write down your best guess of how much time elapses between batches of teacakes, in minutes. Try to make a guess, even if you feel like you don’t \\\n",
    "    have enough information to make a decision—just go with your gut feeling. You may assume that the batches of teacakes are always separated by the same amount of time.\",\n",
    "    temperature=temp,\n",
    "    max_tokens=256,\n",
    "    top_p=p,\n",
    "    frequency_penalty=freq_p,\n",
    "    presence_penalty=pres_p\n",
    "    )\n",
    "\n",
    "    \n",
    "    tea_cake2 = openai.Completion.create(\n",
    "    model=text_model,\n",
    "    prompt=\"A bakery bakes a fresh batch of tea cakes at the same time interval throughout the day, \\\n",
    "    and have a clock outside that shows how long it has been since the last batch was removed from the oven. \\\n",
    "    You are interested in buying a teacake as soon as it is removed from the oven, and wonder what the time interval is.\\\n",
    "    Today, the clock shows that it has been 34 minutes since the last batch of teacakes was removed from the oven.\\n\\n\\\n",
    "    Please write down your best guess of how much time elapses between batches of teacakes, in minutes. Try to make a guess, even if you feel like you don’t \\\n",
    "    have enough information to make a decision—just go with your gut feeling. You may assume that the batches of teacakes are always separated by the same amount of time.\"\\\n",
    "    + tea_cake1.choices[0]['text'] + \"\\n\\n Suppose that you check the clock on your way to class for the next two days. Each time, you note how long it has been since the \\\n",
    "    teacakes came out of the oven. Including the first day, the times you have seen are 34, 8, and 21 minutes.\\\n",
    "    \\n\\n Please write down your new best guess of how much time elapses between batches of teacakes, in minutes\",\n",
    "    temperature=temp,\n",
    "    max_tokens=256,\n",
    "    top_p=p,\n",
    "    frequency_penalty=freq_p,\n",
    "    presence_penalty=pres_p\n",
    "    )\n",
    "\n",
    "    tea_cake3 = openai.Completion.create(\n",
    "    model=text_model,\n",
    "    prompt=\"A bakery bakes a fresh batch of tea cakes at the same time interval throughout the day, \\\n",
    "    and have a clock outside that shows how long it has been since the last batch was removed from the oven. \\\n",
    "    You are interested in buying a teacake as soon as it is removed from the oven, and wonder what the time interval is.\\\n",
    "    Today, the clock shows that it has been 34 minutes since the last batch of teacakes was removed from the oven.\\n\\n\\\n",
    "    Please write down your best guess of how much time elapses between batches of teacakes, in minutes. Try to make a guess, even if you feel like you don’t \\\n",
    "    have enough information to make a decision—just go with your gut feeling. You may assume that the batches of teacakes are always separated by the same amount of time.\"\\\n",
    "        + tea_cake1.choices[0]['text'] + \"\\n\\n Suppose that you check the clock on your way to class for the next two days. Each time, you note how long it has been since the \\\n",
    "        teacakes came out of the oven. Including the first day, the times you have seen are 34, 8, and 21 minutes.\\\n",
    "        \\n\\n Please write down your new best guess of how much time elapses between batches of teacakes, in minutes\" \\\n",
    "        + tea_cake2.choices[0]['text'] + \"Suppose that you note the time on the clock every time you walk past the coffee shop in the next week, \\\n",
    "        checking how long it has been since the teacakes came out of the oven. Including the three days from the previous week, the times you have \\\n",
    "        seen are 34, 8, 21, 18, 2, 5, 27, 22, 10, and 14 minutes. \\n\\nPlease write down your new best guess of how much time elapses between batches of teacakes, in minutes.\",\n",
    "    temperature=temp,\n",
    "    max_tokens=256,\n",
    "    top_p=p,\n",
    "    frequency_penalty=freq_p,\n",
    "    presence_penalty=pres_p\n",
    "    )\n",
    "\n",
    "\n",
    "    return tea_cake1.choices[0]['text'], tea_cake2.choices[0]['text'], tea_cake3.choices[0]['text']\n",
    "\n",
    "\n",
    "\n"
   ]
  },
  {
   "cell_type": "code",
   "execution_count": 78,
   "metadata": {},
   "outputs": [
    {
     "name": "stdout",
     "output_type": "stream",
     "text": [
      "('\\n\\nMy best guess is that the time interval between batches of teacakes is 34 minutes.', '.\\n\\nMy new best guess is that the time interval between batches of teacakes is 24 minutes.', '\\n\\nMy new best guess is that the time interval between batches of teacakes is 20 minutes.')\n"
     ]
    }
   ],
   "source": [
    "print(tea_cake(\"text-davinci-003\", 0, 0.1))"
   ]
  },
  {
   "cell_type": "code",
   "execution_count": 257,
   "metadata": {},
   "outputs": [],
   "source": [
    "#create csv with original prompt using davinci model\n",
    "with open(\"davinci_teacake_temp_original_prompt.csv\", \"w\") as file:\n",
    "    temp = 1.2\n",
    "    p = 1\n",
    "    writer = csv.writer(file)\n",
    "    writer.writerow([\"Result 1\", \"Result 2\", \"Result 3\"])\n",
    "    for i in range(80):\n",
    "        tea_cake_1 = tea_cake(text_model=\"text-davinci-003\", temp=temp, p=p)\n",
    "        writer.writerow([tea_cake_1[0], tea_cake_1[1], tea_cake_1[2]])"
   ]
  },
  {
   "cell_type": "code",
   "execution_count": 102,
   "metadata": {},
   "outputs": [
    {
     "data": {
      "text/plain": [
       "<ErrorbarContainer object of 3 artists>"
      ]
     },
     "execution_count": 102,
     "metadata": {},
     "output_type": "execute_result"
    },
    {
     "data": {
      "image/png": "[encoded data removed]",
      "text/plain": [
       "<Figure size 640x480 with 1 Axes>"
      ]
     },
     "metadata": {},
     "output_type": "display_data"
    }
   ],
   "source": [
    "#plot davinci results on original prompt\n",
    "fig = plt.figure()\n",
    "x = [1, 3, 10]\n",
    "tea_org_y = [0.9466911765, 0.6301470588, 0.4886029412]\n",
    "tea_org_yerr = [0.1428737136, 0.1083212736, 0.07181451435]\n",
    "plt.ylabel(\"predicted_t/t_past\")\n",
    "plt.xlabel(\"Number of Examples\")\n",
    "plt.xticks([1, 3, 10])\n",
    "plt.title(\"Tea Cake\")\n",
    "plt.errorbar(x, tea_org_y, yerr=tea_org_yerr, label='both limits (default)', color='k')\n",
    "\n",
    "# plt.legend(loc='lower right')"
   ]
  },
  {
   "cell_type": "code",
   "execution_count": 80,
   "metadata": {},
   "outputs": [],
   "source": [
    "#tea cake with altered prompt\n",
    "def tea_cake_2(text_model, temp=0.9, p=0.5, freq_p=0, pres_p=0):\n",
    "    tea_cake1 = openai.Completion.create(\n",
    "    model=text_model,\n",
    "    prompt=\"A bakery bakes a fresh batch of tea cakes at the same time interval throughout the day, \\\n",
    "    and have a clock outside that shows how long it has been since the last batch was removed from the oven. \\\n",
    "    You are interested in buying a teacake as soon as it is removed from the oven, and wonder what the time interval is.\\\n",
    "    You know that the time interval can't be any shorter than the longest time you've seen, but may be longer. \\\n",
    "    Today, the clock shows that it has been 34 minutes since the last batch of teacakes was removed from the oven. So it must be greater than or equal to 34 minutes!\\n\\n\\\n",
    "    Please write down your best guess of how much time elapses between batches of teacakes, in minutes. Try to make a guess, even if you feel like you don’t \\\n",
    "    have enough information to make a decision—just go with your gut feeling. You may assume that the batches of teacakes are always separated by the same amount of time.\",\n",
    "    temperature=temp,\n",
    "    max_tokens=256,\n",
    "    top_p=p,\n",
    "    frequency_penalty=freq_p,\n",
    "    presence_penalty=pres_p\n",
    "    )\n",
    "\n",
    "    \n",
    "    tea_cake2 = openai.Completion.create(\n",
    "    model=text_model,\n",
    "    prompt=\"A bakery bakes a fresh batch of tea cakes at the same interval throughout the day, \\\n",
    "    and have a clock outside that shows how long it has been since the last batch was removed from the oven. \\\n",
    "    You are interested in buying a teacake as soon as it is removed from the oven, and wonder what the interval is.\\\n",
    "    You know that the time interval can't be any shorter than the longest time you've seen, but may be longer. \\\n",
    "    Today, the clock shows that it has been 34 minutes since the last batch of teacakes was removed from the oven. So it must be greater than or equal to 34 minutes!\\n\\n\\\n",
    "    Please write down your best guess of the time-interval between batches of teacakes, in minutes. Try to make a guess, even if you feel like you don’t \\\n",
    "    have enough information to make a decision—just go with your gut feeling. You may assume that the batches of teacakes are always separated by the same amount of time.\"\\\n",
    "    + tea_cake1.choices[0]['text'] + \"\\n\\n Suppose that you check the clock on your way to class for the next two days. Each time, you note how long it has been since the \\\n",
    "    teacakes came out of the oven. Including the first day, the times you have seen are 8, 21 and 34 minutes. The time interval must be greater than or equal to 34 minutes. \\\n",
    "    \\n\\n Please write down your new best guess of how much time elapses between batches of teacakes, in minutes.\",\n",
    "    temperature=temp,\n",
    "    max_tokens=256,\n",
    "    top_p=p,\n",
    "    frequency_penalty=freq_p,\n",
    "    presence_penalty=pres_p\n",
    "    )\n",
    "\n",
    "    tea_cake3 = openai.Completion.create(\n",
    "    model=text_model,\n",
    "    prompt=\"A bakery bakes a fresh batch of tea cakes at the same time interval throughout the day, \\\n",
    "    and have a clock outside that shows how long it has been since the last batch was removed from the oven. \\\n",
    "    You are interested in buying a teacake as soon as it is removed from the oven, and wonder what the time interval is. \\\n",
    "    You know that the time interval can't be any shorter than the longest time you've seen, but may be longer. \\\n",
    "    Today, the clock shows that it has been 34 minutes since the last batch of teacakes was removed from the oven. So it must be greater than or equal to 34 minutes!\\n\\n\\\n",
    "    Please write down your best guess of how much time elapses between batches of teacakes, in minutes. Try to make a guess, even if you feel like you don’t \\\n",
    "    have enough information to make a decision—just go with your gut feeling. You may assume that the batches of teacakes are always separated by the same amount of time.\"\\\n",
    "    + tea_cake1.choices[0]['text'] + \"\\n\\n Suppose that you check the clock on your way to class for the next two days. Each time, you note how long it has been since the \\\n",
    "    teacakes came out of the oven. Including the first day, the times you have seen are 34, 8, and 21 minutes.\\\n",
    "    \\n\\n Please write down your new best guess of time interval between batches of teacakes, in minutes\" \\\n",
    "    + tea_cake2.choices[0]['text'] + \"Suppose that you note the time on the clock every time you walk past the coffee shop in the next week, \\\n",
    "    checking how long it has been since the teacakes came out of the oven. Including the three days from the previous week, the times you have \\\n",
    "    seen are 34, 8, 21, 18, 2, 5, 27, 22, 10, and 14 minutes. \\n\\n  The time interval must be greater than or equal to 34 minutes.\\\n",
    "    Please write down your new best guess of the time interval between batches of teacakes, in minutes. \",\n",
    "    temperature=temp,\n",
    "    max_tokens=256,\n",
    "    top_p=p,\n",
    "    frequency_penalty=freq_p,\n",
    "    presence_penalty=pres_p\n",
    "    )\n",
    "\n",
    "\n",
    "    return tea_cake1.choices[0]['text'], tea_cake2.choices[0]['text'], tea_cake3.choices[0]['text']"
   ]
  },
  {
   "cell_type": "code",
   "execution_count": 93,
   "metadata": {},
   "outputs": [
    {
     "name": "stdout",
     "output_type": "stream",
     "text": [
      "('\\n\\nMy best guess is that the bakery bakes a fresh batch of tea cakes at intervals of 40 minutes.', ' Again, make an estimate even if you feel like you     don’t have enough information. \\n\\nMy new best guess is that the bakery bakes a fresh batch of tea cakes at intervals of 38 minutes.', '\\n\\nMy new best guess is that the bakery bakes a fresh batch of tea cakes at intervals of 30 minutes.')\n"
     ]
    }
   ],
   "source": [
    "print(tea_cake_2(\"text-davinci-003\", 1.2, 1))"
   ]
  },
  {
   "cell_type": "code",
   "execution_count": 244,
   "metadata": {},
   "outputs": [],
   "source": [
    "#create csv with curie model on altered prompt\n",
    "with open(\"curie_teacake_temp_1_2_p_1.csv\", \"w\") as file:\n",
    "    temp = 1.2\n",
    "    p = 1\n",
    "    writer = csv.writer(file)\n",
    "    writer.writerow([\"Result 1\", \"Result 2\", \"Result 3\"])\n",
    "    for i in range(80):\n",
    "        tea_cake = tea_cake_2(text_model=\"text-curie-001\", temp=temp, p=p)\n",
    "        writer.writerow([tea_cake[0], tea_cake[1], tea_cake[2]])"
   ]
  },
  {
   "cell_type": "code",
   "execution_count": 582,
   "metadata": {},
   "outputs": [
    {
     "name": "stdout",
     "output_type": "stream",
     "text": [
      "[[0.1428737136, 0.1083212736, 0.07181451435], [0.1428737136, 0.1083212736, 0.07181451435]]\n"
     ]
    },
    {
     "data": {
      "text/plain": [
       "<ErrorbarContainer object of 3 artists>"
      ]
     },
     "execution_count": 582,
     "metadata": {},
     "output_type": "execute_result"
    },
    {
     "data": {
      "image/png": "[encoded data removed]",
      "text/plain": [
       "<Figure size 640x480 with 1 Axes>"
      ]
     },
     "metadata": {},
     "output_type": "display_data"
    }
   ],
   "source": [
    "#plot curie results on altered prompt\n",
    "fig = plt.figure()\n",
    "x = [1, 3, 10]\n",
    "tea_curie_y = [1.09, 1.11, 1.11]\n",
    "tea_curie_yerr = [0.14, 0.14, 0.11]\n",
    "print(yerr)\n",
    "plt.ylabel(\"predicted_t/t_past\")\n",
    "plt.xlabel(\"Number of Examples\")\n",
    "plt.xticks([1, 3, 10])\n",
    "plt.errorbar(x, tea_curie_y, yerr=tea_curie_yerr, label='both limits (default)')"
   ]
  },
  {
   "cell_type": "code",
   "execution_count": null,
   "metadata": {},
   "outputs": [],
   "source": [
    "#create csv with davinci model on altered prompt\n",
    "with open(\"davinci_teacake_temp_1_2_p_1.csv\", \"w\") as file:\n",
    "    temp = 1.2\n",
    "    p = 1\n",
    "    writer = csv.writer(file)\n",
    "    writer.writerow([\"Result 1\", \"Result 2\", \"Result 3\"])\n",
    "    for i in range(80):\n",
    "        tea_cake = tea_cake_2(text_model=\"text-davinci-003\", temp=temp, p=p)\n",
    "        writer.writerow([tea_cake[0], tea_cake[1], tea_cake[2]])"
   ]
  },
  {
   "cell_type": "code",
   "execution_count": 581,
   "metadata": {},
   "outputs": [
    {
     "data": {
      "text/plain": [
       "<ErrorbarContainer object of 3 artists>"
      ]
     },
     "execution_count": 581,
     "metadata": {},
     "output_type": "execute_result"
    },
    {
     "data": {
      "image/png": "[encoded data removed]",
      "text/plain": [
       "<Figure size 640x480 with 1 Axes>"
      ]
     },
     "metadata": {},
     "output_type": "display_data"
    }
   ],
   "source": [
    "#plot davinci results on altered prompt\n",
    "fig = plt.figure()\n",
    "x = [1, 3, 10]\n",
    "tea_alt_y = [1.234795613, 1.240777667, 1.22333001]\n",
    "tea_alt_yerr = [0.1319287235, 0.09639031196, 0.1140576477]\n",
    "plt.xlabel(\"predicted_t/t_past\")\n",
    "plt.ylabel(\"Number of Examples\")\n",
    "plt.xticks([1, 3, 10])\n",
    "\n",
    "plt.errorbar(x, tea_alt_y, yerr=tea_alt_yerr, label='both limits (default)')"
   ]
  },
  {
   "cell_type": "code",
   "execution_count": 334,
   "metadata": {},
   "outputs": [
    {
     "name": "stdout",
     "output_type": "stream",
     "text": [
      "\n",
      "\n",
      "The wait time for any given train will vary depending on the time of day, destination, and numerous other factors. In Japan, as in many diiferent countries, passengers can consult a station timetable (either online or in the station) for specific information about station wait times. On average, wait times are less than five minutes during peak hours, sometimes stretching to 10 minutes or more at less busy times.\n"
     ]
    }
   ],
   "source": [
    "train1 = openai.Completion.create(\n",
    "  model=\"text-davinci-003\",\n",
    "  prompt=\"How long do you usually have to wait for trains at a station in an efficiently run country like Japan?\",\n",
    "  temperature=1.2,\n",
    "  max_tokens=256,\n",
    "  top_p=1,\n",
    "  frequency_penalty=0,\n",
    "  presence_penalty=0\n",
    ")\n",
    "print(train1.choices[0]['text'])"
   ]
  },
  {
   "cell_type": "code",
   "execution_count": 346,
   "metadata": {},
   "outputs": [
    {
     "name": "stdout",
     "output_type": "stream",
     "text": [
      "\n",
      "\n",
      "It depends on the country and the type of train station. Generally, most trains arrive every few minutes at busy stations, although these intervals may stretch to several minutes at off-peak times. Other stations may be scheduled, so arrival times may vary up to an hour.\n",
      "\n",
      "\n",
      "My best guess would be 120 seconds.\n"
     ]
    }
   ],
   "source": [
    "train_prior= openai.Completion.create(\n",
    "  model=\"text-davinci-003\",\n",
    "  prompt=\"How long do you usually have to wait for trains in seconds at a station in an efficiently run country?\",\n",
    "  temperature=1.2,\n",
    "  max_tokens=256,\n",
    "  top_p=1,\n",
    "  frequency_penalty=0,\n",
    "  presence_penalty=0\n",
    ")\n",
    "print(train_prior.choices[0]['text'])\n",
    "\n",
    "train1 = openai.Completion.create(\n",
    "  model=\"text-davinci-003\",\n",
    "  prompt=\"How long do you usually have to wait for trains at a station in an efficiently run country?.\\n\\n\" \\\n",
    "    + train_prior.choices[0]['text'] + \"Now imagine that you are visiting a foreign country, and want to catch a subway train. Your guidebook says that the subway service is very efficient,\\\n",
    "     with trains running to fixed schedules, guaranteeing that you won’t have to wait very long at the station. \\\n",
    "    The book doesn’t mention how much time passes between trains, so you will have to try to guess. When you get to the station, \\\n",
    "    you see a clock on the wall indicating that the next train will arrive in 103 seconds. So the amount of time between trains must be greater than or equal to 103 seconds.\\\n",
    "    \\n\\nPlease write down your best guess of how much time elapses between trains arriving, in seconds. Try to make a guess, even if you feel like you don’t \\\n",
    "    have enough information to make a decision—just go with your gut feeling. You may assume that the time between trains arriving is separated by the same amount of time.\",\n",
    "  temperature=1.2,\n",
    "  max_tokens=256,\n",
    "  top_p=1,\n",
    "  frequency_penalty=0,\n",
    "  presence_penalty=0\n",
    ")\n",
    "\n",
    "print(train1.choices[0]['text'])"
   ]
  },
  {
   "cell_type": "code",
   "execution_count": 339,
   "metadata": {},
   "outputs": [
    {
     "name": "stdout",
     "output_type": "stream",
     "text": [
      " \n",
      "\n",
      "My best guess is that the time between trains arriving to the station is about 90 seconds.\n"
     ]
    }
   ],
   "source": [
    "print(train1.choices[0]['text'])"
   ]
  },
  {
   "cell_type": "code",
   "execution_count": 284,
   "metadata": {},
   "outputs": [],
   "source": [
    "train2 = openai.Completion.create(\n",
    "  model=\"text-curie-001\",\n",
    "  prompt=\"Imagine that you are visiting a foreign country, and want to catch a subway train. Your guidebook says that the subway service is very efficient,\\\n",
    "    with trains running to fixed schedules, guaranteeing that you won’t have to wait very long at the station. \\\n",
    "    The book doesn’t mention how much time passes between trains, so you will have to try to guess. When you get to the station, \\\n",
    "    you see a clock on the wall indicating that the next train will arrive in 103 seconds.\\\n",
    "    \\n\\nPlease write down your best guess of how much time elapses between trains arriving, in seconds. Try to make a guess, even if you feel like you don’t \\\n",
    "    have enough information to make a decision—just go with your gut feeling. You may assume that the time between trains arriving is separated by the same amount of time.\"\\\n",
    "    + train1.choices[0]['text'] + \"\\n\\n Suppose that you check the clock for the next two hours. Each time, you note how long it has been since the \\\n",
    "    last train arrived. Including the first train, the times you have seen are 103 seconds, 34 seconds, and 72 seconds. \\\n",
    "    \\n\\nPlease write down your best guess of how much time elapses between trains arriving, in seconds.\",\n",
    "  temperature=1.2,\n",
    "  max_tokens=256,\n",
    "  top_p=1,\n",
    "  frequency_penalty=0,\n",
    "  presence_penalty=0\n",
    ")"
   ]
  },
  {
   "cell_type": "code",
   "execution_count": 285,
   "metadata": {},
   "outputs": [
    {
     "name": "stdout",
     "output_type": "stream",
     "text": [
      " Try to make a guess, even if you feel like you don’t have enough information to make a decision—just go with your gut feeling.\n",
      "\n",
      "My guess is that the time between trains arriving is 103 seconds.\n"
     ]
    }
   ],
   "source": [
    "print(train2.choices[0]['text'])"
   ]
  },
  {
   "cell_type": "code",
   "execution_count": 286,
   "metadata": {},
   "outputs": [],
   "source": [
    "\n",
    "train3 = openai.Completion.create(\n",
    "  model=\"text-curie-001\",\n",
    "  prompt=\"Imagine that you are visiting a foreign country, and want to catch a subway train. Your guidebook says that the subway service is very efficient,\\\n",
    "    with trains running to fixed schedules, guaranteeing that you won’t have to wait very long at the station. \\\n",
    "    The book doesn’t mention how much time passes between trains, so you will have to try to guess. When you get to the station, \\\n",
    "    you see a clock on the wall indicating that the next train will arrive in 103 seconds.\\\n",
    "    \\n\\nPlease write down your best guess of how much time elapses between trains arriving, in minutes. Try to make a guess, even if you feel like you don’t \\\n",
    "    have enough information to make a decision—just go with your gut feeling. You may assume that the time between trains arriving is separated by the same amount of time.\"\\\n",
    "    + train1.choices[0]['text'] + \"\\n\\n Suppose that you check the clock for the next two hours. Each time, you note how long it has been since the \\\n",
    "    last train arrived. Including the first train, the times you have seen are 103 seconds, 34 seconds, and 72 seconds. \\\n",
    "    \\n\\nPlease write down your best guess of how much time elapses between trains arriving, in minutes.\"\\\n",
    "    + train2.choices[0]['text'] + \"Suppose that you note the time on the clock every time you see a train arrive over the next 8 hours, \\\n",
    "    checking how long it has been since the last train arrived. Including the two hours previously, the times you have seen are \\\n",
    "    103s, 34s, 72s, 61s, 17s, 29s, 101s, 97s, 42s, and 52s\\n\\nPlease write down your best guess of how much time elapses between trains arriving, in minutes.\",\n",
    "  temperature=1.2,\n",
    "  max_tokens=256,\n",
    "  top_p=1,\n",
    "  frequency_penalty=0,\n",
    "  presence_penalty=0\n",
    ")"
   ]
  },
  {
   "cell_type": "code",
   "execution_count": 287,
   "metadata": {},
   "outputs": [
    {
     "name": "stdout",
     "output_type": "stream",
     "text": [
      "\n",
      "\n",
      "My guess is that the time between trains arriving is 103 seconds.\n"
     ]
    }
   ],
   "source": [
    "print(train3.choices[0]['text'])"
   ]
  },
  {
   "cell_type": "code",
   "execution_count": 289,
   "metadata": {},
   "outputs": [],
   "source": [
    "#train with original prompt\n",
    "def train(model, temp, p):\n",
    "    train1 = openai.Completion.create(\n",
    "    model=model,\n",
    "    prompt=\"Imagine that you are visiting a foreign country, and want to catch a subway train. Your guidebook says that the subway service is very efficient,\\\n",
    "        with trains running to fixed schedules, guaranteeing that you won’t have to wait very long at the station. \\\n",
    "        The book doesn’t mention how much time passes between trains, so you will have to try to guess. When you get to the station, \\\n",
    "        you see a clock on the wall indicating that the next train will arrive in 103 seconds. \\\n",
    "        \\n\\nPlease write down your best guess of how much time elapses between trains arriving, in seconds. Try to make a guess, even if you feel like you don’t \\\n",
    "        have enough information to make a decision—just go with your gut feeling. You may assume that the time between trains arriving is separated by the same amount of time.\",\n",
    "    temperature=temp,\n",
    "    max_tokens=256,\n",
    "    top_p=p,\n",
    "    frequency_penalty=0,\n",
    "    presence_penalty=0\n",
    "    )\n",
    "    train2 = openai.Completion.create(\n",
    "    model=model,\n",
    "    prompt=\"Imagine that you are visiting a foreign country, and want to catch a subway train. Your guidebook says that the subway service is very efficient,\\\n",
    "        with trains running to fixed schedules, guaranteeing that you won’t have to wait very long at the station. \\\n",
    "        The book doesn’t mention how much time passes between trains, so you will have to try to guess. When you get to the station, \\\n",
    "        you see a clock on the wall indicating that the next train will arrive in 103 seconds.\\\n",
    "        \\n\\nPlease write down your best guess of how much time elapses between trains arriving, in seconds. Try to make a guess, even if you feel like you don’t \\\n",
    "        have enough information to make a decision—just go with your gut feeling. You may assume that the time between trains arriving is separated by the same amount of time.\"\\\n",
    "        + train1.choices[0]['text'] + \"\\n\\n Suppose that you check the clock for the next two hours. Each time, you note how long it has been since the \\\n",
    "        last train arrived. Including the first train, the times you have seen are 103 seconds, 34 seconds, and 72 seconds. \\\n",
    "        \\n\\nPlease write down your best guess of how much time elapses between trains arriving, in seconds.\",\n",
    "    temperature=temp,\n",
    "    max_tokens=256,\n",
    "    top_p=p,\n",
    "    frequency_penalty=0,\n",
    "    presence_penalty=0\n",
    "    )\n",
    "    train3 = openai.Completion.create(\n",
    "    model=model,\n",
    "    prompt=\"Imagine that you are visiting a foreign country, and want to catch a subway train. Your guidebook says that the subway service is very efficient,\\\n",
    "        with trains running to fixed schedules, guaranteeing that you won’t have to wait very long at the station. \\\n",
    "        The book doesn’t mention how much time passes between trains, so you will have to try to guess. When you get to the station, \\\n",
    "        you see a clock on the wall indicating that the next train will arrive in 103 seconds.\\\n",
    "        \\n\\nPlease write down your best guess of how much time elapses between trains arriving, in minutes. Try to make a guess, even if you feel like you don’t \\\n",
    "        have enough information to make a decision—just go with your gut feeling. You may assume that the time between trains arriving is separated by the same amount of time.\"\\\n",
    "        + train1.choices[0]['text'] + \"\\n\\n Suppose that you check the clock for the next two hours. Each time, you note how long it has been since the \\\n",
    "        last train arrived. Including the first train, the times you have seen are 103 seconds, 34 seconds, and 72 seconds. \\\n",
    "        \\n\\nPlease write down your best guess of how much time elapses between trains arriving, in minutes.\"\\\n",
    "        + train2.choices[0]['text'] + \"Suppose that you note the time on the clock every time you see a train arrive over the next 8 hours, \\\n",
    "        checking how long it has been since the last train arrived. Including the two hours previously, the times you have seen are \\\n",
    "        103s, 34s, 72s, 61s, 17s, 29s, 101s, 97s, 42s, and 52s\\n\\nPlease write down your best guess of how much time elapses between trains arriving, in minutes.\",\n",
    "    temperature=temp,\n",
    "    max_tokens=256,\n",
    "    top_p=p,\n",
    "    frequency_penalty=0,\n",
    "    presence_penalty=0\n",
    "    )\n",
    "\n",
    "    return train1.choices[0]['text'], train2.choices[0]['text'], train3.choices[0]['text']"
   ]
  },
  {
   "cell_type": "code",
   "execution_count": 329,
   "metadata": {},
   "outputs": [
    {
     "name": "stdout",
     "output_type": "stream",
     "text": [
      "\n",
      "\n",
      "My best guess is that the time between trains arriving is 93 seconds.  Try to make a guess even if you feel like you don’t     have enough information to make a decision—just go with your gut feeling.\n",
      "\n",
      "My best guess is that the time between trains arriving is 47 seconds.  Try to make a guess, even if you feel like you don’t have enough information to make a decision—just go with your gut feeling.\n",
      "\n",
      "My best guess is that the time between trains arriving is 55 seconds.\n"
     ]
    }
   ],
   "source": [
    "train_result = train(\"text-davinci-003\", 1.2, 1)\n",
    "print(train_result[0], train_result[1], train_result[2])"
   ]
  },
  {
   "cell_type": "code",
   "execution_count": 307,
   "metadata": {},
   "outputs": [],
   "source": [
    "#train with original prompt\n",
    "def train_alt(model, temp, p):\n",
    "    train1 = openai.Completion.create(\n",
    "    model=model,\n",
    "    prompt=\"Imagine that you are visiting a foreign country, and want to catch a subway train. Your guidebook says that the subway service is very efficient,\\\n",
    "        with trains running to fixed schedules, guaranteeing that you won’t have to wait very long at the station. \\\n",
    "        The book doesn’t mention how much time passes between trains, so you will have to try to guess. When you get to the station, \\\n",
    "        you see a clock on the wall indicating that the next train will arrive in 103 seconds. So the amount of time between trains must be greater than or equal to 103 seconds.\\\n",
    "        \\n\\nPlease write down your best guess of how much time elapses between trains arriving, in seconds. Try to make a guess, even if you feel like you don’t \\\n",
    "        have enough information to make a decision—just go with your gut feeling. You may assume that the time between trains arriving is separated by the same amount of time.\",\n",
    "    temperature=temp,\n",
    "    max_tokens=256,\n",
    "    top_p=p,\n",
    "    frequency_penalty=0,\n",
    "    presence_penalty=0\n",
    "    )\n",
    "    train2 = openai.Completion.create(\n",
    "    model=model,\n",
    "    prompt=\"Imagine that you are visiting a foreign country, and want to catch a subway train. Your guidebook says that the subway service is very efficient,\\\n",
    "        with trains running to fixed schedules, guaranteeing that you won’t have to wait very long at the station. \\\n",
    "        The book doesn’t mention how much time passes between trains, so you will have to try to guess. When you get to the station, \\\n",
    "        you see a clock on the wall indicating that the next train will arrive in 103 seconds. So the amount of time between trains must be greater than or equal to 103 seconds.\\\n",
    "        \\n\\nPlease write down your best guess of how much time elapses between trains arriving, in seconds. Try to make a guess, even if you feel like you don’t \\\n",
    "        have enough information to make a decision—just go with your gut feeling. You may assume that the time between trains arriving is separated by the same amount of time.\"\\\n",
    "        + train1.choices[0]['text'] + \"\\n\\n Suppose that you check the clock for the next two hours. Each time, you note how long it has been since the \\\n",
    "        last train arrived. Including the first train, the times you have seen are 103 seconds, 34 seconds, and 72 seconds. \\\n",
    "        \\n\\nPlease write down your best guess of how much time elapses between trains arriving, in seconds. The amount of time between trains must be greater than or equal to 103 seconds.\",\n",
    "    temperature=temp,\n",
    "    max_tokens=256,\n",
    "    top_p=p,\n",
    "    frequency_penalty=0,\n",
    "    presence_penalty=0\n",
    "    )\n",
    "    train3 = openai.Completion.create(\n",
    "    model=model,\n",
    "    prompt=\"Imagine that you are visiting a foreign country, and want to catch a subway train. Your guidebook says that the subway service is very efficient,\\\n",
    "        with trains running to fixed schedules, guaranteeing that you won’t have to wait very long at the station. \\\n",
    "        The book doesn’t mention how much time passes between trains, so you will have to try to guess. When you get to the station, \\\n",
    "        you see a clock on the wall indicating that the next train will arrive in 103 seconds. So the amount of time between trains must be greater than or equal to 103 seconds.\\\n",
    "        \\n\\nPlease write down your best guess of how much time elapses between trains arriving, in minutes. Try to make a guess, even if you feel like you don’t \\\n",
    "        have enough information to make a decision—just go with your gut feeling. You may assume that the time between trains arriving is separated by the same amount of time.\"\\\n",
    "        + train1.choices[0]['text'] + \"\\n\\n Suppose that you check the clock for the next two hours. Each time, you note how long it has been since the \\\n",
    "        last train arrived. Including the first train, the times you have seen are 103 seconds, 34 seconds, and 72 seconds. \\\n",
    "        \\n\\nPlease write down your best guess of how much time elapses between trains arriving, in minutes.\"\\\n",
    "        + train2.choices[0]['text'] + \"Suppose that you note the time on the clock every time you see a train arrive over the next 8 hours, \\\n",
    "        checking how long it has been since the last train arrived. Including the two hours previously, the times you have seen are \\\n",
    "        103s, 34s, 72s, 61s, 17s, 29s, 101s, 97s, 42s, and 52s\\n\\nPlease write down your best guess of how much time elapses between trains arriving, in seconds. \\\n",
    "        The amount of time between trains must be greater than or equal to 103 seconds.\",\n",
    "    temperature=temp,\n",
    "    max_tokens=256,\n",
    "    top_p=p,\n",
    "    frequency_penalty=0,\n",
    "    presence_penalty=0\n",
    "    )\n",
    "\n",
    "    return train1.choices[0]['text'], train2.choices[0]['text'], train3.choices[0]['text']"
   ]
  },
  {
   "cell_type": "code",
   "execution_count": 327,
   "metadata": {},
   "outputs": [
    {
     "name": "stdout",
     "output_type": "stream",
     "text": [
      "\n",
      "\n",
      "My best guess is that the time elapses between two trains arriving is 120 seconds. \n",
      "\n",
      "My best guess is that the time elapses between two trains arriving is 120 seconds. \n",
      "\n",
      "My best guess is that the time elapses between two trains arriving is 120 seconds.\n"
     ]
    }
   ],
   "source": [
    "train_result = train_alt(\"text-davinci-003\", 1.2, 1)\n",
    "print(train_result[0], train_result[1], train_result[2])"
   ]
  },
  {
   "cell_type": "code",
   "execution_count": 331,
   "metadata": {},
   "outputs": [],
   "source": [
    "#create csv with davinci model on altered prompt\n",
    "with open(\"davinci_train_temp_1_2_p_1.csv\", \"w\") as file:\n",
    "    temp = 1.2\n",
    "    p = 1\n",
    "    writer = csv.writer(file)\n",
    "    writer.writerow([\"Result 1\", \"Result 2\", \"Result 3\"])\n",
    "    for i in range(80):\n",
    "        train_result = train_alt(model=\"text-davinci-003\", temp=temp, p=p)\n",
    "        writer.writerow([train_result[0], train_result[1], train_result[2]])"
   ]
  },
  {
   "cell_type": "code",
   "execution_count": 580,
   "metadata": {},
   "outputs": [
    {
     "data": {
      "text/plain": [
       "<ErrorbarContainer object of 3 artists>"
      ]
     },
     "execution_count": 580,
     "metadata": {},
     "output_type": "execute_result"
    },
    {
     "data": {
      "image/png": "[encoded data removed]",
      "text/plain": [
       "<Figure size 640x480 with 1 Axes>"
      ]
     },
     "metadata": {},
     "output_type": "display_data"
    }
   ],
   "source": [
    "#plot davinci train results\n",
    "fig = plt.figure()\n",
    "x = [1, 3, 10]\n",
    "train_y = [1.30, 1.13, 1.10]\n",
    "train_yerr = [0.2373639961, 0.1333000177, 0.1216016995]\n",
    "plt.ylabel(\"predicted_t/t_past\")\n",
    "plt.xlabel(\"Number of Examples\")\n",
    "plt.xticks([1, 3, 10])\n",
    "\n",
    "plt.errorbar(x, train_y, yerr=train_yerr, label='both limits (default)')"
   ]
  },
  {
   "cell_type": "code",
   "execution_count": 350,
   "metadata": {},
   "outputs": [
    {
     "name": "stdout",
     "output_type": "stream",
     "text": [
      "\n",
      "\n",
      "My best guess for the unhealthy threshold is 50 ng/mL.\n"
     ]
    }
   ],
   "source": [
    "\n",
    "model = \"text-davinci-003\"\n",
    "temp = 1.2\n",
    "p = 1\n",
    "toxin1= openai.Completion.create(\n",
    "    model=model,\n",
    "    prompt=\"On a visit to the doctor, you undergo a range of tests. In one case, the doctor informs you that he is testing for levels of a certain environmental toxin in your blood.\\n\\n \\\n",
    "He has a chart that indicates healthy levels of environmental toxins, but you can’t quite read the numbers indicating the threshold between healthy and unhealthy amounts.\\\n",
    "The doctor tells you that you need only get another appointment if the test suggests that you have unhealthy levels of toxin in your blood. When you go in to pick up your results, \\\n",
    "you find a stack of reports that have been classified as 'healthy.' You are relieved to find your report in the “healthy” stack. \\\n",
    "You see that the concentration listed on your report is 34 ng/mL.\\n\\nPlease write down your best guess of what the unhealthy threshold is. Try to make a guess, even if you feel like you don’t \\\n",
    "        have enough information to make a decision—just go with your gut feeling.\",\n",
    "    temperature=temp,\n",
    "    max_tokens=256,\n",
    "    top_p=p,\n",
    "    frequency_penalty=0,\n",
    "    presence_penalty=0\n",
    "    )\n",
    "\n",
    "print(toxin1.choices[0]['text'])"
   ]
  },
  {
   "cell_type": "code",
   "execution_count": 351,
   "metadata": {},
   "outputs": [],
   "source": [
    "#toxin with original prompt\n",
    "def toxin_org(model, temp, p):\n",
    "    toxin1 = openai.Completion.create(\n",
    "    model=model,\n",
    "    prompt=\"On a visit to the doctor, you undergo a range of tests. In one case, the doctor informs you that he is testing for levels of a certain environmental toxin in your blood.\\n\\n \\\n",
    "He has a chart that indicates healthy levels of environmental toxins, but you can’t quite read the numbers indicating the threshold between healthy and unhealthy amounts.\\\n",
    "The doctor tells you that you need only get another appointment if the test suggests that you have unhealthy levels of toxin in your blood. When you go in to pick up your results, \\\n",
    "you find a stack of reports that have been classified as 'healthy.' You are relieved to find your report in the “healthy” stack. \\\n",
    "You see that the concentration listed on your report is 34 ng/mL.\\n\\nPlease write down your best guess of what the unhealthy threshold is. Try to make a guess, even if you feel like you don’t \\\n",
    "        have enough information to make a decision—just go with your gut feeling.\",\n",
    "    temperature=temp,\n",
    "    max_tokens=256,\n",
    "    top_p=p,\n",
    "    frequency_penalty=0,\n",
    "    presence_penalty=0\n",
    "    )\n",
    "    toxin2 = openai.Completion.create(\n",
    "    model=model,\n",
    "    prompt=\"On a visit to the doctor, you undergo a range of tests. In one case, the doctor informs you that he is testing for levels of a certain environmental toxin in your blood.\\n\\n \\\n",
    "He has a chart that indicates healthy levels of environmental toxins, but you can’t quite read the numbers indicating the threshold between healthy and unhealthy amounts.\\\n",
    "The doctor tells you that you need only get another appointment if the test suggests that you have unhealthy levels of toxin in your blood. When you go in to pick up your results, \\\n",
    "you find a stack of reports that have been classified as 'healthy.' You are relieved to find your report in the “healthy” stack. \\\n",
    "You see that the concentration listed on your report is 34 ng/mL.\\n\\nPlease write down your best guess of what the unhealthy threshold is. Try to make a guess, even if you feel like you don’t \\\n",
    "        have enough information to make a decision—just go with your gut feeling.\"\\\n",
    "        + toxin1.choices[0]['text'] + \"\\n\\n Suppose that you check the level on your next two visits.  Including the first visit, the reports read 34, 8 and 21 ng/mL.\\\n",
    "        \\n\\nPlease write down your new best guess of the unhealthy threshold.\",\n",
    "    temperature=temp,\n",
    "    max_tokens=256,\n",
    "    top_p=p,\n",
    "    frequency_penalty=0,\n",
    "    presence_penalty=0\n",
    "    )\n",
    "    toxin3 = openai.Completion.create(\n",
    "    model=model,\n",
    "    prompt=\"On a visit to the doctor, you undergo a range of tests. In one case, the doctor informs you that he is testing for levels of a certain environmental toxin in your blood.\\n\\n \\\n",
    "He has a chart that indicates healthy levels of environmental toxins, but you can’t quite read the numbers indicating the threshold between healthy and unhealthy amounts.\\\n",
    "The doctor tells you that you need only get another appointment if the test suggests that you have unhealthy levels of toxin in your blood. When you go in to pick up your results, \\\n",
    "you find a stack of reports that have been classified as 'healthy.' You are relieved to find your report in the “healthy” stack. \\\n",
    "You see that the concentration listed on your report is 34 ng/mL.\\n\\nPlease write down your best guess of what the unhealthy threshold is. Try to make a guess, even if you feel like you don’t \\\n",
    "        have enough information to make a decision—just go with your gut feeling.\"\\\n",
    "        + toxin1.choices[0]['text'] + \"\\n\\n Suppose that you check the level on your next two visits.  Including the first visit, the reports read 34, 8 and 21 ng/mL.\\\n",
    "        \\n\\nPlease write down your new best guess of the unhealthy threshold.\" \\\n",
    "        + toxin2.choices[0]['text'] + \"\\n\\n Suppose that you check the level on 7 more visits for a total of 10 visits. Including the 3 visits, the reports read 34, 8, 21, 18, 2, 5, 27, 22, 10, and 14 ng/mL.\\\n",
    "        \\n\\nPlease write down your new best guess of the unhealthy threshold.\",\n",
    "    temperature=temp,\n",
    "    max_tokens=256,\n",
    "    top_p=p,\n",
    "    frequency_penalty=0,\n",
    "    presence_penalty=0\n",
    "    )\n",
    "\n",
    "    return toxin1.choices[0]['text'], toxin2.choices[0]['text'], toxin3.choices[0]['text']"
   ]
  },
  {
   "cell_type": "code",
   "execution_count": 353,
   "metadata": {},
   "outputs": [
    {
     "name": "stdout",
     "output_type": "stream",
     "text": [
      "('\\n\\nMy best guess of what the unhealthy threshold is would be ~41 ng/mL.', '\\n\\nMy new best guess of the unhealthy threshold would be ~26 ng/mL.', '\\n\\nMy new best guess of the unhealthy threshold would be ~21 ng/mL.')\n"
     ]
    }
   ],
   "source": [
    "model = \"text-davinci-003\"\n",
    "temp = 1.2\n",
    "p = 1\n",
    "toxin_results = toxin_org(model, temp, p)\n",
    "print(toxin_results)"
   ]
  },
  {
   "cell_type": "code",
   "execution_count": 457,
   "metadata": {},
   "outputs": [],
   "source": [
    "#toxin with original prompt\n",
    "def toxin_alt(model, temp, p):\n",
    "    toxin1 = openai.Completion.create(\n",
    "    model=model,\n",
    "    prompt=\"On a visit to the doctor, you undergo a range of tests. In one case, the doctor informs you that he is testing for levels of a certain environmental toxin in your blood.\\n\\n \\\n",
    "        He has a chart that indicates healthy levels of environmental toxins, but you can’t quite read the numbers indicating the threshold between healthy and unhealthy amounts.\\\n",
    "        You are relieved to find your report in the “healthy” stack. \\\n",
    "        You see that the concentration listed on your report is 34 ng/mL.\\n\\nPlease write down your best guess of what the unhealthy threshold amount is. Try to make a guess, even if you feel like you don’t \\\n",
    "        have enough information to make a decision—just go with your gut feeling. The unhealthy threshold must be greater than or equal to 34 ng/mL.\",\n",
    "    temperature=temp,\n",
    "    max_tokens=256,\n",
    "    top_p=p,\n",
    "    frequency_penalty=0,\n",
    "    presence_penalty=0\n",
    "    )\n",
    "    toxin2 = openai.Completion.create(\n",
    "    model=model,\n",
    "    prompt=\"On a visit to the doctor, you undergo a range of tests. In one case, the doctor informs you that he is testing for levels of a certain environmental toxin in your blood.\\n\\n \\\n",
    "            He has a chart that indicates healthy levels of environmental toxins, but you can’t quite read the numbers indicating the threshold between healthy and unhealthy amounts.\\\n",
    "            You are relieved to find your report in the “healthy” stack. \\\n",
    "            You see that the concentration listed on your report is 34 ng/mL.\\n\\nPlease write down your best guess of what the unhealthy threshold amount is. Try to make a guess, even if you feel like you don’t \\\n",
    "        have enough information to make a decision—just go with your gut feeling. The unhealthy threshold must be greater than or equal to 34 ng/mL.\"\\\n",
    "        + toxin1.choices[0]['text'] + \"\\n\\n Suppose that you check the level on your next two visits. Including the first visit, the reports read 34, 8 and 21 ng/mL.\\\n",
    "        \\n\\nPlease write down your new best guess of the unhealthy threshold amount. The unhealthy threshold must be greater than or equal to 34 ng/mL.\",\n",
    "    temperature=temp,\n",
    "    max_tokens=256,\n",
    "    top_p=p,\n",
    "    frequency_penalty=0,\n",
    "    presence_penalty=0\n",
    "    )\n",
    "    toxin3 = openai.Completion.create(\n",
    "    model=model,\n",
    "    prompt=\"On a visit to the doctor, you undergo a range of tests. In one case, the doctor informs you that he is testing for levels of a certain environmental toxin in your blood.\\n\\n \\\n",
    "        He has a chart that indicates healthy levels of environmental toxins, but you can’t quite read the numbers indicating the threshold between healthy and unhealthy amounts.\\\n",
    "        You are relieved to find your report in the “healthy” stack. \\\n",
    "        You see that the concentration listed on your report is 34 ng/mL.\\n\\nPlease write down your best guess of what the unhealthy threshold amount is. Try to make a guess, even if you feel like you don’t \\\n",
    "        have enough information to make a decision—just go with your gut feeling. The unhealthy threshold amount must be greater than or equal to 34 ng/mL.\"\\\n",
    "        + toxin1.choices[0]['text'] + \"\\n\\n Suppose that you check the level on your next two visits.  Including the first visit, the reports read 34, 8 and 21 ng/mL.\\\n",
    "        \\n\\nPlease write down your new best guess of the unhealthy threshold amount. The unhealthy threshold amount must be greater than or equal to 34 ng/mL.\" \\\n",
    "        + toxin2.choices[0]['text'] + \"\\n\\n Suppose that you check the level on seven more visits for a total of 10 visits. Including the 3 visits, the reports read 34, 8, 21, 18, 2, 5, 27, 22, 10, and 14 ng/mL.\\\n",
    "        \\n\\nPlease write down your new best guess of the unhealthy threshold amount. The unhealthy threshold amount must be greater than or equal to 34 ng/mL.\",\n",
    "    temperature=temp,\n",
    "    max_tokens=256,\n",
    "    top_p=p,\n",
    "    frequency_penalty=0,\n",
    "    presence_penalty=0\n",
    "    )\n",
    "\n",
    "    return toxin1.choices[0]['text'], toxin2.choices[0]['text'], toxin3.choices[0]['text']"
   ]
  },
  {
   "cell_type": "code",
   "execution_count": 461,
   "metadata": {},
   "outputs": [
    {
     "name": "stdout",
     "output_type": "stream",
     "text": [
      "('\\n\\nMy best guess is that the unhealthy threshold amount of this specific environmental toxin is 40 ng/mL.', '\\n\\nMy new best guess is that the unhealthy threshold amount of this specific environmental toxin is 40 ng/mL.', '\\n\\nMy new best guess is that the unhealthy threshold amount of this specific environmental toxin is 40 ng/mL.')\n"
     ]
    }
   ],
   "source": [
    "model = \"text-davinci-003\"\n",
    "temp = 1.2\n",
    "p = 1\n",
    "toxin_results = toxin_alt(model, temp, p)\n",
    "print(toxin_results)"
   ]
  },
  {
   "cell_type": "code",
   "execution_count": 465,
   "metadata": {},
   "outputs": [],
   "source": [
    "#create csv with davinci model on altered prompt\n",
    "with open(\"davinci_taxi_temp_1_2_p_1.csv\", \"w\") as file:\n",
    "    temp = 1.2\n",
    "    p = 1\n",
    "    writer = csv.writer(file)\n",
    "    writer.writerow([\"Result 1\", \"Result 2\", \"Result 3\"])\n",
    "    for i in range(80):\n",
    "        toxin_result = toxin_alt(model=\"text-davinci-003\", temp=temp, p=p)\n",
    "        writer.writerow([toxin_result[0], toxin_result[1], toxin_result[2]])"
   ]
  },
  {
   "cell_type": "code",
   "execution_count": 579,
   "metadata": {},
   "outputs": [
    {
     "data": {
      "text/plain": [
       "<ErrorbarContainer object of 3 artists>"
      ]
     },
     "execution_count": 579,
     "metadata": {},
     "output_type": "execute_result"
    },
    {
     "data": {
      "image/png": "[encoded data removed]",
      "text/plain": [
       "<Figure size 640x480 with 1 Axes>"
      ]
     },
     "metadata": {},
     "output_type": "display_data"
    }
   ],
   "source": [
    "#plot davinci toxin results\n",
    "fig = plt.figure()\n",
    "x = [1, 3, 10]\n",
    "toxin_y = [1.040106952, 1.03342246, 1.037433155]\n",
    "toxin_yerr = [0.04496886983, 0.03431827246, 0.03651237574]\n",
    "plt.ylabel(\"predicted_t/t_past\")\n",
    "plt.xlabel(\"Number of Examples\")\n",
    "plt.xticks([1, 3, 10])\n",
    "\n",
    "plt.errorbar(x, toxin_y, yerr=toxin_yerr, label='both limits (default)')"
   ]
  },
  {
   "cell_type": "code",
   "execution_count": 429,
   "metadata": {},
   "outputs": [],
   "source": [
    "#taxi with original prompt\n",
    "def taxi_org(model, temp, p):\n",
    "    taxi1 = openai.Completion.create(\n",
    "    model=model,\n",
    "    prompt=\"Imagine that your business requires you to travel by train to a certain town or city for ten weeks. \\\n",
    "        When the train pulls up at the station, you get into the first taxicab you find. As you get into the cab, you notice a serial number on the rear fender of your cab. \\\n",
    "        You are curious about this, and ask the driver how the cabs are labeled. He tells you that each cab is given a unique number between 1 and the total number of cabs in the company, \\\n",
    "        and that each number in that range corresponds to a cab. The serial number of this particular cab is 103.\\n\\nPlease write down your best guess of how many cabs there are in the company.\\\n",
    "        Try to make a guess, even if you feel like you don’t have enough information to make a decision—just go with your gut feeling.\",\n",
    "    temperature=temp,\n",
    "    max_tokens=256,\n",
    "    top_p=p,\n",
    "    frequency_penalty=0,\n",
    "    presence_penalty=0\n",
    "    )\n",
    "    taxi2 = openai.Completion.create(\n",
    "    model=model,\n",
    "    prompt=\"Imagine that your business requires you to travel by train to a certain town or city for ten weeks. \\\n",
    "        When the train pulls up at the station, you get into the first taxicab you find. As you get into the cab, you notice a serial number on the rear fender of your cab. \\\n",
    "        You are curious about this, and ask the driver how the cabs are labeled. He tells you that each cab is given a unique number between 1 and the total number of cabs in the company, \\\n",
    "        and that each number in that range corresponds to a cab. The serial number of this particular cab is 103.\\n\\nPlease write down your best guess of how many cabs there are in the company.\\\n",
    "        Try to make a guess, even if you feel like you don’t have enough information to make a decision—just go with your gut feeling.\" \\\n",
    "        + taxi1.choices[0]['text'] + \"\\n\\n Suppose that you check the serial numbers on two more cabs. Including the first cab, the serial numbers you've seen are 103, 34, and 72.\\\n",
    "        \\n\\nPlease write down your new best guess of how many cabs there are in the company.\",\n",
    "    temperature=temp,\n",
    "    max_tokens=256,\n",
    "    top_p=p,\n",
    "    frequency_penalty=0,\n",
    "    presence_penalty=0\n",
    "    )\n",
    "    taxi3 = openai.Completion.create(\n",
    "    model=model,\n",
    "    prompt=\"Imagine that your business requires you to travel by train to a certain town or city for ten weeks. \\\n",
    "        When the train pulls up at the station, you get into the first taxicab you find. As you get into the cab, you notice a serial number on the rear fender of your cab. \\\n",
    "        You are curious about this, and ask the driver how the cabs are labeled. He tells you that each cab is given a unique number between 1 and the total number of cabs in the company, \\\n",
    "        and that each number in that range corresponds to a cab. The serial number of this particular cab is 103.\\n\\nPlease write down your best guess of how many cabs there are in the company.\\\n",
    "        Try to make a guess, even if you feel like you don’t have enough information to make a decision—just go with your gut feeling.\" \\\n",
    "        + taxi1.choices[0]['text'] + \"\\n\\n Suppose that you check the serial numbers on two more cabs. Including the first cab, the serial numbers you've seen are 103, 34, and 72.\\\n",
    "        \\n\\nPlease write down your new best guess of how many cabs there are in the company.\"\\\n",
    "        + taxi2.choices[0]['text'] + \"\\n\\n Suppose that you check the serial numbers on 7 more cabs. Including the first cab, the serial numbers you've seen are 103, 34, 72, 61, 17, 29, 101, 97, 42, and 52.\\\n",
    "        \\n\\nPlease write down your new best guess of how many cabs there are in the company.\",\n",
    "    temperature=temp,\n",
    "    max_tokens=256,\n",
    "    top_p=p,\n",
    "    frequency_penalty=0,\n",
    "    presence_penalty=0\n",
    "    )\n",
    "\n",
    "    return taxi1.choices[0]['text'], taxi2.choices[0]['text'], taxi3.choices[0]['text']"
   ]
  },
  {
   "cell_type": "code",
   "execution_count": 442,
   "metadata": {},
   "outputs": [
    {
     "name": "stdout",
     "output_type": "stream",
     "text": [
      "('\\n\\nMy best guess is that there are at least 103 cabs in the company.', '\\n\\nNow my best guess is that there are at least 72 cabs in the company.', '\\n\\nNow my best guess is that there are at least 101 cabs in the company.')\n"
     ]
    }
   ],
   "source": [
    "model = \"text-davinci-003\"\n",
    "temp = 1.2\n",
    "p = 1\n",
    "taxi_results = taxi_org(model, temp, p)\n",
    "print(taxi_results)"
   ]
  },
  {
   "cell_type": "code",
   "execution_count": 445,
   "metadata": {},
   "outputs": [],
   "source": [
    "#create csv with davinci model on altered prompt\n",
    "with open(\"davinci_taxi_temp_1_2_p_1.csv\", \"w\") as file:\n",
    "    temp = 1.2\n",
    "    p = 1\n",
    "    writer = csv.writer(file)\n",
    "    writer.writerow([\"Result 1\", \"Result 2\", \"Result 3\"])\n",
    "    for i in range(80):\n",
    "        taxi_result = taxi_org(model=\"text-davinci-003\", temp=temp, p=p)\n",
    "        writer.writerow([taxi_result[0], taxi_result[1], taxi_result[2]])"
   ]
  },
  {
   "cell_type": "code",
   "execution_count": 103,
   "metadata": {},
   "outputs": [
    {
     "data": {
      "text/plain": [
       "<ErrorbarContainer object of 3 artists>"
      ]
     },
     "execution_count": 103,
     "metadata": {},
     "output_type": "execute_result"
    },
    {
     "data": {
      "image/png": "[encoded data removed]",
      "text/plain": [
       "<Figure size 640x480 with 1 Axes>"
      ]
     },
     "metadata": {},
     "output_type": "display_data"
    }
   ],
   "source": [
    "#plot davinci taxi results\n",
    "fig = plt.figure()\n",
    "x = [1, 3, 10]\n",
    "taxi_y = [1.07300224, 1.213032114, 1.376026886]\n",
    "taxi_yerr = [0.2366653586, 0.3620160601, 0.6545178631]\n",
    "plt.ylabel(\"predicted_t/t_past\")\n",
    "plt.xlabel(\"Number of Examples\")\n",
    "plt.xticks([1, 3, 10])\n",
    "plt.ylim(1, 2.3)\n",
    "plt.title(\"Taxi Cab\")\n",
    "\n",
    "plt.errorbar(x, taxi_y, yerr=taxi_yerr, label='both limits (default)', color='k')"
   ]
  },
  {
   "cell_type": "code",
   "execution_count": 592,
   "metadata": {},
   "outputs": [],
   "source": [
    "#bayesian model with erlang prior\n",
    "def bayesian_model(beta, data, t):\n",
    "    t_total = np.arange(0, t)\n",
    "    erlang = t_total*np.exp(-t_total/beta)/beta**2\n",
    "    median = np.array([])\n",
    "    def likelihood(n, t, t_past):\n",
    "        if t < t_past:\n",
    "            return 0\n",
    "        return (1/t)**n\n",
    "    for d in data: \n",
    "        l = [likelihood(len(d), t, max(d)) for t in t_total]\n",
    "        post = erlang*l/(np.sum(erlang*l))\n",
    "        t = 0\n",
    "        for i in range(len(post)):\n",
    "            t += post[i]\n",
    "            if t >= 0.5:\n",
    "                median = np.append(median, i)\n",
    "                break\n",
    "            \n",
    "    plt.plot([1, 3, 10], median/max(max(data)))\n",
    "    return median/max(max(data))"
   ]
  },
  {
   "cell_type": "code",
   "execution_count": 593,
   "metadata": {},
   "outputs": [
    {
     "name": "stdout",
     "output_type": "stream",
     "text": [
      "[2.08823529 1.35294118 1.05882353]\n"
     ]
    },
    {
     "data": {
      "image/png": "[encoded data removed]",
      "text/plain": [
       "<Figure size 640x480 with 1 Axes>"
      ]
     },
     "metadata": {},
     "output_type": "display_data"
    }
   ],
   "source": [
    "#tea_cake\n",
    "beta = 1.6*34\n",
    "data = [[34], [34, 8, 21], [34, 8, 21, 18, 2, 5, 27, 22, 10, 14]]\n",
    "tea_bayes = bayesian_model(beta, data, 600)\n",
    "print(tea_bayes)"
   ]
  },
  {
   "cell_type": "code",
   "execution_count": 630,
   "metadata": {},
   "outputs": [
    {
     "name": "stdout",
     "output_type": "stream",
     "text": [
      "[4.73786408 1.59223301 1.08737864]\n"
     ]
    },
    {
     "data": {
      "image/png": "[encoded data removed]",
      "text/plain": [
       "<Figure size 640x480 with 1 Axes>"
      ]
     },
     "metadata": {},
     "output_type": "display_data"
    }
   ],
   "source": [
    "#train\n",
    "beta = 5.4*103\n",
    "data = [[103], [103, 34, 72], [103, 34, 72, 61, 17, 29, 101, 97, 42, 52]]\n",
    "train_bayes = bayesian_model(beta, data, 10000)\n",
    "print(train_bayes)"
   ]
  },
  {
   "cell_type": "code",
   "execution_count": 631,
   "metadata": {},
   "outputs": [
    {
     "name": "stdout",
     "output_type": "stream",
     "text": [
      "[1.47058824 1.23529412 1.05882353]\n"
     ]
    },
    {
     "data": {
      "image/png": "[encoded data removed]",
      "text/plain": [
       "<Figure size 640x480 with 1 Axes>"
      ]
     },
     "metadata": {},
     "output_type": "display_data"
    }
   ],
   "source": [
    "#toxin\n",
    "beta = 0.7*34\n",
    "data = [[34], [34, 8, 21], [34, 8, 21, 18, 2, 5, 27, 22, 10, 14]]\n",
    "toxin_bayes = bayesian_model(beta, data, 10000)\n",
    "print(toxin_bayes)"
   ]
  },
  {
   "cell_type": "code",
   "execution_count": 632,
   "metadata": {},
   "outputs": [
    {
     "data": {
      "image/png": "[encoded data removed]",
      "text/plain": [
       "<Figure size 640x480 with 1 Axes>"
      ]
     },
     "metadata": {},
     "output_type": "display_data"
    }
   ],
   "source": [
    "#taxi\n",
    "beta = 4.4*103\n",
    "data = [[103], [103, 34, 72], [103, 34, 72, 61, 17, 29, 101, 97, 42, 52]]\n",
    "taxi_bayes = bayesian_model(beta, data, 10000)"
   ]
  },
  {
   "cell_type": "code",
   "execution_count": 638,
   "metadata": {},
   "outputs": [
    {
     "data": {
      "text/plain": [
       "Text(0.5, 1.0, 'PREDICTING THE FUTURE')"
      ]
     },
     "execution_count": 638,
     "metadata": {},
     "output_type": "execute_result"
    },
    {
     "data": {
      "image/png": "[encoded data removed]",
      "text/plain": [
       "<Figure size 640x480 with 1 Axes>"
      ]
     },
     "metadata": {},
     "output_type": "display_data"
    }
   ],
   "source": [
    "gpt_y= [tea_alt_y, train_y, toxin_y, taxi_y]\n",
    "gpt_yerr = [tea_alt_yerr, train_yerr, toxin_yerr, taxi_yerr]\n",
    "bayes_y = [tea_bayes, train_bayes, toxin_bayes, taxi_bayes]\n",
    "x = np.array([1, 3, 10])\n",
    "n = 0\n",
    "for i in range(len(bayes_y)):\n",
    "    \n",
    "    plt.errorbar(x + n, gpt_y[i], yerr=gpt_yerr[i], color='k') \n",
    "    plt.plot(x + n, bayes_y[i], 'k--')\n",
    "    \n",
    "    n += 10\n",
    "plt.ylabel(\"predicted_t/t_past\")\n",
    "plt.xticks([5, 15, 25, 35], [\"Tea Cakes\", \"Train\", \"Toxin\", \"Taxi\"])\n",
    "gpt_line = Line2D([0], [0], label='GPT', color='k')\n",
    "bayes_line = Line2D([0], [0], label='Bayesian Model', color='k', ls='--')\n",
    "plt.legend(handles = [gpt_line, bayes_line], loc='upper right')\n",
    "plt.ylim(1, 5)\n",
    "plt.yticks([1, 2, 3, 4, 5])\n",
    "plt.title('PREDICTING THE FUTURE')"
   ]
  }
 ],
 "metadata": {
  "kernelspec": {
   "display_name": "Python 3.10.6 ('.966': venv)",
   "language": "python",
   "name": "python3"
  },
  "language_info": {
   "codemirror_mode": {
    "name": "ipython",
    "version": 3
   },
   "file_extension": ".py",
   "mimetype": "text/x-python",
   "name": "python",
   "nbconvert_exporter": "python",
   "pygments_lexer": "ipython3",
   "version": "3.10.6"
  },
  "orig_nbformat": 4,
  "vscode": {
   "interpreter": {
    "hash": "b2bf4b4f7639816395c0b522cca2dff7f0bd991ee51fefdd501f426df678c1f1"
   }
  }
 },
 "nbformat": 4,
 "nbformat_minor": 2
}
